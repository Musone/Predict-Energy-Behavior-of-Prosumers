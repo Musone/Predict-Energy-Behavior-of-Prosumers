{
 "cells": [
  {
<<<<<<< HEAD
   "cell_type": "code",
   "execution_count": 1,
=======
   "cell_type": "markdown",
   "metadata": {},
   "source": [
    "# Hello and welcome!\n",
    "Here is a link to the Kaggle for convenience: https://www.kaggle.com/competitions/predict-energy-behavior-of-prosumers/overview\n",
    "\n",
    "Here is a link to the data: https://drive.google.com/drive/folders/1TgD14QwrcnvYTQKxg2xDVbDUdWAg_G3T?usp=sharing"
   ]
  },
  {
   "cell_type": "code",
   "execution_count": 5,
   "metadata": {},
   "outputs": [],
   "source": [
    "import pandas as pd"
   ]
  },
  {
   "cell_type": "markdown",
   "metadata": {},
   "source": [
    "Our data is time sensitive:\n",
    "<ul>\n",
    "    <li>\n",
    "        Client data: Up to 2 days before prediction date.\n",
    "    </li>\n",
    "    <li>\n",
    "        Gas/Electricity prices: Up to 2 days before prediction date.\n",
    "    </li>\n",
    "    <li>\n",
    "        Weather Forecast: Updates at midnight. We can use same day data for this feature.\n",
    "    </li>\n",
    "</ul>\n",
    "\n",
    "Suggestion: Create lag features for our samples to get Gas/Electricity price from 2 days ago?"
   ]
  },
  {
   "cell_type": "code",
   "execution_count": 6,
   "metadata": {},
   "outputs": [
    {
     "data": {
      "text/html": [
       "<div>\n",
       "<style scoped>\n",
       "    .dataframe tbody tr th:only-of-type {\n",
       "        vertical-align: middle;\n",
       "    }\n",
       "\n",
       "    .dataframe tbody tr th {\n",
       "        vertical-align: top;\n",
       "    }\n",
       "\n",
       "    .dataframe thead th {\n",
       "        text-align: right;\n",
       "    }\n",
       "</style>\n",
       "<table border=\"1\" class=\"dataframe\">\n",
       "  <thead>\n",
       "    <tr style=\"text-align: right;\">\n",
       "      <th></th>\n",
       "      <th>product_type</th>\n",
       "      <th>county</th>\n",
       "      <th>eic_count</th>\n",
       "      <th>installed_capacity</th>\n",
       "      <th>is_business</th>\n",
       "      <th>date</th>\n",
       "      <th>data_block_id</th>\n",
       "    </tr>\n",
       "  </thead>\n",
       "  <tbody>\n",
       "    <tr>\n",
       "      <th>0</th>\n",
       "      <td>1</td>\n",
       "      <td>0</td>\n",
       "      <td>108</td>\n",
       "      <td>952.89</td>\n",
       "      <td>0</td>\n",
       "      <td>2021-09-01</td>\n",
       "      <td>2</td>\n",
       "    </tr>\n",
       "    <tr>\n",
       "      <th>1</th>\n",
       "      <td>2</td>\n",
       "      <td>0</td>\n",
       "      <td>17</td>\n",
       "      <td>166.40</td>\n",
       "      <td>0</td>\n",
       "      <td>2021-09-01</td>\n",
       "      <td>2</td>\n",
       "    </tr>\n",
       "    <tr>\n",
       "      <th>2</th>\n",
       "      <td>3</td>\n",
       "      <td>0</td>\n",
       "      <td>688</td>\n",
       "      <td>7207.88</td>\n",
       "      <td>0</td>\n",
       "      <td>2021-09-01</td>\n",
       "      <td>2</td>\n",
       "    </tr>\n",
       "    <tr>\n",
       "      <th>3</th>\n",
       "      <td>0</td>\n",
       "      <td>0</td>\n",
       "      <td>5</td>\n",
       "      <td>400.00</td>\n",
       "      <td>1</td>\n",
       "      <td>2021-09-01</td>\n",
       "      <td>2</td>\n",
       "    </tr>\n",
       "    <tr>\n",
       "      <th>4</th>\n",
       "      <td>1</td>\n",
       "      <td>0</td>\n",
       "      <td>43</td>\n",
       "      <td>1411.00</td>\n",
       "      <td>1</td>\n",
       "      <td>2021-09-01</td>\n",
       "      <td>2</td>\n",
       "    </tr>\n",
       "    <tr>\n",
       "      <th>...</th>\n",
       "      <td>...</td>\n",
       "      <td>...</td>\n",
       "      <td>...</td>\n",
       "      <td>...</td>\n",
       "      <td>...</td>\n",
       "      <td>...</td>\n",
       "      <td>...</td>\n",
       "    </tr>\n",
       "    <tr>\n",
       "      <th>41914</th>\n",
       "      <td>1</td>\n",
       "      <td>15</td>\n",
       "      <td>51</td>\n",
       "      <td>415.60</td>\n",
       "      <td>0</td>\n",
       "      <td>2023-05-29</td>\n",
       "      <td>637</td>\n",
       "    </tr>\n",
       "    <tr>\n",
       "      <th>41915</th>\n",
       "      <td>3</td>\n",
       "      <td>15</td>\n",
       "      <td>161</td>\n",
       "      <td>2035.75</td>\n",
       "      <td>0</td>\n",
       "      <td>2023-05-29</td>\n",
       "      <td>637</td>\n",
       "    </tr>\n",
       "    <tr>\n",
       "      <th>41916</th>\n",
       "      <td>0</td>\n",
       "      <td>15</td>\n",
       "      <td>15</td>\n",
       "      <td>620.00</td>\n",
       "      <td>1</td>\n",
       "      <td>2023-05-29</td>\n",
       "      <td>637</td>\n",
       "    </tr>\n",
       "    <tr>\n",
       "      <th>41917</th>\n",
       "      <td>1</td>\n",
       "      <td>15</td>\n",
       "      <td>20</td>\n",
       "      <td>624.50</td>\n",
       "      <td>1</td>\n",
       "      <td>2023-05-29</td>\n",
       "      <td>637</td>\n",
       "    </tr>\n",
       "    <tr>\n",
       "      <th>41918</th>\n",
       "      <td>3</td>\n",
       "      <td>15</td>\n",
       "      <td>55</td>\n",
       "      <td>2188.20</td>\n",
       "      <td>1</td>\n",
       "      <td>2023-05-29</td>\n",
       "      <td>637</td>\n",
       "    </tr>\n",
       "  </tbody>\n",
       "</table>\n",
       "<p>41919 rows × 7 columns</p>\n",
       "</div>"
      ],
      "text/plain": [
       "       product_type  county  eic_count  installed_capacity  is_business  \\\n",
       "0                 1       0        108              952.89            0   \n",
       "1                 2       0         17              166.40            0   \n",
       "2                 3       0        688             7207.88            0   \n",
       "3                 0       0          5              400.00            1   \n",
       "4                 1       0         43             1411.00            1   \n",
       "...             ...     ...        ...                 ...          ...   \n",
       "41914             1      15         51              415.60            0   \n",
       "41915             3      15        161             2035.75            0   \n",
       "41916             0      15         15              620.00            1   \n",
       "41917             1      15         20              624.50            1   \n",
       "41918             3      15         55             2188.20            1   \n",
       "\n",
       "             date  data_block_id  \n",
       "0      2021-09-01              2  \n",
       "1      2021-09-01              2  \n",
       "2      2021-09-01              2  \n",
       "3      2021-09-01              2  \n",
       "4      2021-09-01              2  \n",
       "...           ...            ...  \n",
       "41914  2023-05-29            637  \n",
       "41915  2023-05-29            637  \n",
       "41916  2023-05-29            637  \n",
       "41917  2023-05-29            637  \n",
       "41918  2023-05-29            637  \n",
       "\n",
       "[41919 rows x 7 columns]"
      ]
     },
     "execution_count": 6,
     "metadata": {},
     "output_type": "execute_result"
    }
   ],
   "source": [
    "df = pd.read_csv('./data/client.csv')\n",
    "df "
   ]
  },
  {
   "cell_type": "code",
   "execution_count": 13,
>>>>>>> Fixing data files too large problem
   "metadata": {},
   "outputs": [
    {
     "name": "stdout",
     "output_type": "stream",
     "text": [
<<<<<<< HEAD
      "hello world!\n"
     ]
    }
   ],
   "source": [
    "print('hello world!')"
=======
      "Default Features:\n"
     ]
    },
    {
     "data": {
      "text/plain": [
       "['product_type',\n",
       " 'county',\n",
       " 'eic_count',\n",
       " 'installed_capacity',\n",
       " 'is_business',\n",
       " 'date',\n",
       " 'data_block_id']"
      ]
     },
     "execution_count": 13,
     "metadata": {},
     "output_type": "execute_result"
    }
   ],
   "source": [
    "print('Default Features:')\n",
    "df.columns.tolist()"
>>>>>>> Fixing data files too large problem
   ]
  }
 ],
 "metadata": {
  "kernelspec": {
   "display_name": "base",
   "language": "python",
   "name": "python3"
  },
  "language_info": {
   "codemirror_mode": {
    "name": "ipython",
    "version": 3
   },
   "file_extension": ".py",
   "mimetype": "text/x-python",
   "name": "python",
   "nbconvert_exporter": "python",
   "pygments_lexer": "ipython3",
   "version": "3.11.4"
  }
 },
 "nbformat": 4,
 "nbformat_minor": 2
}
